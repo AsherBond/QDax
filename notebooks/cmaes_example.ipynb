{
 "cells": [
  {
   "cell_type": "code",
   "execution_count": null,
   "id": "f69f2d3c",
   "metadata": {
    "pycharm": {
     "name": "#%%\n"
    }
   },
   "outputs": [],
   "source": [
    "%load_ext autoreload\n",
    "%autoreload 2"
   ]
  },
  {
   "cell_type": "code",
   "execution_count": null,
   "id": "d731f067",
   "metadata": {},
   "outputs": [],
   "source": [
    "import jax\n",
    "import jax.numpy as jnp\n",
    "\n",
    "import matplotlib.pyplot as plt\n",
    "from matplotlib.patches import Ellipse\n",
    "\n",
    "from qdax.core.cmaes import CMAES"
   ]
  },
  {
   "cell_type": "code",
   "execution_count": null,
   "id": "5aff15f3",
   "metadata": {},
   "outputs": [],
   "source": [
    "# jax.config.update('jax_disable_jit', True)"
   ]
  },
  {
   "cell_type": "markdown",
   "id": "ccc7cbeb",
   "metadata": {
    "pycharm": {
     "name": "#%% md\n"
    }
   },
   "source": [
    "### Define fitness function"
   ]
  },
  {
   "cell_type": "code",
   "execution_count": null,
   "id": "d5e89aa2",
   "metadata": {
    "pycharm": {
     "name": "#%%\n"
    }
   },
   "outputs": [],
   "source": [
    "fitness_func = lambda x: -jnp.sum((x - 5.0) * (x - 5.0), axis=-1)"
   ]
  },
  {
   "cell_type": "code",
   "execution_count": null,
   "id": "436dccbb",
   "metadata": {},
   "outputs": [],
   "source": [
    "num_iterations = 7000 # 70000 #70000 #10000\n",
    "num_dimensions = 100 #100 #1000 #@param {type:\"integer\"} # try 20 and 100\n",
    "grid_shape = (500, 500) # (500, 500) \n",
    "batch_size = 500 #@param {type:\"integer\"}\n",
    "sigma_g = 0.5 # 0.5 #@param {type:\"number\"}\n",
    "minval = -5.12\n",
    "num_best = 250 #36\n",
    "\n",
    "def rastrigin_scoring(x: jnp.ndarray):\n",
    "    first_term = 10 * x.shape[-1]\n",
    "    second_term = jnp.sum((x + minval * 0.4) ** 2 - 10 * jnp.cos(2 * jnp.pi * (x + minval * 0.4)))\n",
    "    return -(first_term + second_term)\n",
    "#     return (first_term + second_term)\n",
    "\n",
    "fitness_func = jax.vmap(rastrigin_scoring)"
   ]
  },
  {
   "cell_type": "markdown",
   "id": "62bdd2a4",
   "metadata": {
    "pycharm": {
     "name": "#%% md\n"
    }
   },
   "source": [
    "### Instantiate CMA-ES object"
   ]
  },
  {
   "cell_type": "code",
   "execution_count": null,
   "id": "4cf03f55",
   "metadata": {
    "pycharm": {
     "name": "#%%\n"
    }
   },
   "outputs": [],
   "source": [
    "cmaes = CMAES(\n",
    "    population_size=batch_size,\n",
    "    num_best=num_best,\n",
    "    search_dim=num_dimensions, #2, \n",
    "    fitness_function=fitness_func,\n",
    "    mean_init=jnp.zeros((num_dimensions,)), #jnp.asarray([-1.0, -1.0]),\n",
    "    init_sigma=sigma_g, #1.0,\n",
    "    init_step_size=0.5, #0.5,\n",
    "    delay_eigen_decomposition=True, #False,\n",
    ")"
   ]
  },
  {
   "cell_type": "markdown",
   "id": "f1f69f50",
   "metadata": {
    "pycharm": {
     "name": "#%% md\n"
    }
   },
   "source": [
    "### Initialization"
   ]
  },
  {
   "cell_type": "code",
   "execution_count": null,
   "id": "1a95b74d",
   "metadata": {
    "pycharm": {
     "name": "#%%\n"
    }
   },
   "outputs": [],
   "source": [
    "state = cmaes.init()\n",
    "key = jax.random.PRNGKey(0)"
   ]
  },
  {
   "cell_type": "code",
   "execution_count": null,
   "id": "9fc74024",
   "metadata": {},
   "outputs": [],
   "source": [
    "cmaes._weights"
   ]
  },
  {
   "cell_type": "markdown",
   "id": "ac2d5c0d",
   "metadata": {
    "pycharm": {
     "name": "#%% md\n"
    }
   },
   "source": [
    "### Iterations"
   ]
  },
  {
   "cell_type": "code",
   "execution_count": null,
   "id": "363198ca",
   "metadata": {
    "pycharm": {
     "name": "#%%\n"
    }
   },
   "outputs": [],
   "source": [
    "%%time\n",
    "\n",
    "means = [state.mean]\n",
    "covs = [state.cov_matrix]\n",
    "\n",
    "for _ in range(num_iterations):\n",
    "    \n",
    "    samples, key = cmaes.sample(state, key)\n",
    "#     state = cmaes.update(state, samples)\n",
    "\n",
    "    fitnesses = -fitness_func(samples)\n",
    "    idx_sorted = jnp.argsort(fitnesses)\n",
    "    sorted_candidates = samples[idx_sorted[: num_best]]\n",
    "\n",
    "    state = cmaes.update_state(state, sorted_candidates)\n",
    "    \n",
    "    stop_condition = cmaes.stop_condition(state)\n",
    "    print(\"Step size: \", state.step_size)\n",
    "    print(\"Stop condition: \", stop_condition)\n",
    "    if stop_condition:\n",
    "        break\n",
    "    \n",
    "    means.append(state.mean)\n",
    "    covs.append(state.cov_matrix)"
   ]
  },
  {
   "cell_type": "code",
   "execution_count": null,
   "id": "1e4a2c7b",
   "metadata": {},
   "outputs": [],
   "source": [
    "fitnesses"
   ]
  },
  {
   "cell_type": "code",
   "execution_count": null,
   "id": "42ce9586",
   "metadata": {},
   "outputs": [],
   "source": [
    "worst_objective = rastrigin_scoring(-jnp.ones(num_dimensions) * 5.12)\n",
    "# worst_objective = rastrigin_scoring(jnp.zeros(num_dimensions))\n",
    "best_objective = rastrigin_scoring(jnp.ones(num_dimensions) * 5.12 * 0.4)\n",
    "\n",
    "(fitnesses - worst_objective) * 100 / (best_objective - worst_objective)"
   ]
  },
  {
   "cell_type": "code",
   "execution_count": null,
   "id": "cc859ef5",
   "metadata": {},
   "outputs": [],
   "source": [
    "means[-1]"
   ]
  },
  {
   "cell_type": "markdown",
   "id": "f3bd2b0f",
   "metadata": {
    "pycharm": {
     "name": "#%% md\n"
    }
   },
   "source": [
    "### Visualization"
   ]
  },
  {
   "cell_type": "code",
   "execution_count": null,
   "id": "ad85551c",
   "metadata": {
    "pycharm": {
     "name": "#%%\n"
    }
   },
   "outputs": [],
   "source": [
    "fig, ax = plt.subplots(figsize=(10, 5))\n",
    "\n",
    "# sample points to show fitness landscape\n",
    "x = jax.random.uniform(key, minval=-6, maxval=6, shape=(100000, 2))\n",
    "f_x = fitness_func(x)\n",
    "\n",
    "# plot fitness landscape\n",
    "points = ax.scatter(x[:, 0], x[:, 1], c=f_x, s=0.1)\n",
    "fig.colorbar(points)\n",
    "\n",
    "# plot cma-es trajectory\n",
    "for mean, cov in zip(means, covs):\n",
    "#     print(\"Mean: \", mean)\n",
    "#     print(\"Covariance: \", cov)\n",
    "#     print(\"Covariance: \", cov[0])\n",
    "#     print(\"Covariance: \", cov[1])\n",
    "    ellipse = Ellipse((mean[0], mean[1]), cov[0, 0], cov[1, 1], fill=False, color='k', ls='--')\n",
    "    ax.add_patch(ellipse)\n",
    "    ax.plot(mean[0], mean[1], color='k', marker='x')"
   ]
  },
  {
   "cell_type": "code",
   "execution_count": null,
   "id": "eb44a240",
   "metadata": {
    "pycharm": {
     "name": "#%%\n"
    }
   },
   "outputs": [],
   "source": []
  },
  {
   "cell_type": "code",
   "execution_count": null,
   "id": "d7fdce5d",
   "metadata": {},
   "outputs": [],
   "source": []
  },
  {
   "cell_type": "code",
   "execution_count": null,
   "id": "4ddb69cd",
   "metadata": {},
   "outputs": [],
   "source": []
  },
  {
   "cell_type": "code",
   "execution_count": null,
   "id": "cb2e1e7f",
   "metadata": {},
   "outputs": [],
   "source": []
  },
  {
   "cell_type": "code",
   "execution_count": null,
   "id": "5614d573",
   "metadata": {},
   "outputs": [],
   "source": []
  },
  {
   "cell_type": "code",
   "execution_count": null,
   "id": "d44fdc2e",
   "metadata": {},
   "outputs": [],
   "source": []
  },
  {
   "cell_type": "code",
   "execution_count": null,
   "id": "e122d6cd",
   "metadata": {},
   "outputs": [],
   "source": []
  },
  {
   "cell_type": "code",
   "execution_count": null,
   "id": "becf2141",
   "metadata": {},
   "outputs": [],
   "source": [
    "N = 4\n",
    "\n",
    "pc = jnp.zeros((N,1))\n",
    "ps = jnp.zeros((N,1))  # evolution paths for C and sigma\n",
    "B = jnp.eye(N,N)    # B defines the coordinate system\n",
    "D = jnp.ones((N,1))      # diagonal D defines the scaling\n",
    "C = B * jnp.diag(D**2) * B.T     # covariance matrix C\n",
    "invsqrtC = B * jnp.diag(D**(-1)) * B.T"
   ]
  },
  {
   "cell_type": "code",
   "execution_count": null,
   "id": "726b3399",
   "metadata": {},
   "outputs": [],
   "source": [
    "pc"
   ]
  },
  {
   "cell_type": "code",
   "execution_count": null,
   "id": "bdd8bfac",
   "metadata": {},
   "outputs": [],
   "source": [
    "ps"
   ]
  },
  {
   "cell_type": "code",
   "execution_count": null,
   "id": "005d40fe",
   "metadata": {},
   "outputs": [],
   "source": [
    "B"
   ]
  },
  {
   "cell_type": "code",
   "execution_count": null,
   "id": "235a0b63",
   "metadata": {},
   "outputs": [],
   "source": [
    "D"
   ]
  },
  {
   "cell_type": "code",
   "execution_count": null,
   "id": "bf49c51e",
   "metadata": {},
   "outputs": [],
   "source": [
    "jnp.diag(D)"
   ]
  },
  {
   "cell_type": "code",
   "execution_count": null,
   "id": "d0d42ef4",
   "metadata": {},
   "outputs": [],
   "source": [
    "D**2"
   ]
  },
  {
   "cell_type": "code",
   "execution_count": null,
   "id": "aa12bfe3",
   "metadata": {},
   "outputs": [],
   "source": [
    "B * jnp.diag(D**2) * B.T"
   ]
  },
  {
   "cell_type": "code",
   "execution_count": null,
   "id": "71bca687",
   "metadata": {},
   "outputs": [],
   "source": [
    "B * jnp.diag(D**(-1)) * B.T"
   ]
  },
  {
   "cell_type": "code",
   "execution_count": null,
   "id": "525407c6",
   "metadata": {},
   "outputs": [],
   "source": [
    "C"
   ]
  },
  {
   "cell_type": "code",
   "execution_count": null,
   "id": "217acc2f",
   "metadata": {},
   "outputs": [],
   "source": [
    "jnp.triu(C)"
   ]
  },
  {
   "cell_type": "code",
   "execution_count": null,
   "id": "54f1f51a",
   "metadata": {},
   "outputs": [],
   "source": [
    "A = jnp.array(\n",
    "[[1, 2, 3, 4],\n",
    " [5, 6, 7, 8],\n",
    " [9, 10, 11, 12],\n",
    " [13, 14, 15, 16]])"
   ]
  },
  {
   "cell_type": "code",
   "execution_count": null,
   "id": "cd33e0d4",
   "metadata": {},
   "outputs": [],
   "source": [
    "A"
   ]
  },
  {
   "cell_type": "code",
   "execution_count": null,
   "id": "1b72da25",
   "metadata": {},
   "outputs": [],
   "source": [
    "jnp.triu(A)"
   ]
  },
  {
   "cell_type": "code",
   "execution_count": null,
   "id": "de63735d",
   "metadata": {},
   "outputs": [],
   "source": [
    "weights = jnp.array([1, 2, 3, 4, 5])\n",
    "jnp.diag(weights)"
   ]
  },
  {
   "cell_type": "code",
   "execution_count": null,
   "id": "22efcf64",
   "metadata": {},
   "outputs": [],
   "source": []
  }
 ],
 "metadata": {
  "kernelspec": {
   "display_name": "Python 3 (ipykernel)",
   "language": "python",
   "name": "python3"
  },
  "language_info": {
   "codemirror_mode": {
    "name": "ipython",
    "version": 3
   },
   "file_extension": ".py",
   "mimetype": "text/x-python",
   "name": "python",
   "nbconvert_exporter": "python",
   "pygments_lexer": "ipython3",
   "version": "3.8.13"
  }
 },
 "nbformat": 4,
 "nbformat_minor": 5
}
