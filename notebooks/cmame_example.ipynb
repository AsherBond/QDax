{
 "cells": [
  {
   "cell_type": "markdown",
   "metadata": {},
   "source": [
    "###### [![Open In Colab](https://colab.research.google.com/assets/colab-badge.svg)](https://colab.research.google.com/github/adaptive-intelligent-robotics/QDax/blob/main/notebooks/cmamega_example.ipynb)"
   ]
  },
  {
   "cell_type": "markdown",
   "metadata": {},
   "source": [
    "# Optimizing with CMA-MEGA in Jax\n",
    "\n",
    "This notebook shows how to use QDax to find diverse and performing parameters on the Rastrigin problem with [CMA-MEGA](https://arxiv.org/pdf/2106.03894.pdf). It can be run locally or on Google Colab. We recommand to use a GPU. This notebook will show:\n",
    "\n",
    "- how to define the problem\n",
    "- how to create a cma-mega emitter\n",
    "- how to create a Map-elites instance\n",
    "- which functions must be defined before training\n",
    "- how to launch a certain number of training steps\n",
    "- how to visualise the optimization process"
   ]
  },
  {
   "cell_type": "code",
   "execution_count": 1,
   "metadata": {},
   "outputs": [],
   "source": [
    "%load_ext autoreload\n",
    "%autoreload 2"
   ]
  },
  {
   "cell_type": "code",
   "execution_count": 2,
   "metadata": {},
   "outputs": [],
   "source": [
    "import jax \n",
    "import jax.numpy as jnp\n",
    "\n",
    "try:\n",
    "    import flax\n",
    "except:\n",
    "    !pip install --no-deps git+https://github.com/google/flax.git@v0.4.1 |tail -n 1\n",
    "    import flax\n",
    "\n",
    "try:\n",
    "    import chex\n",
    "except:\n",
    "    !pip install --no-deps git+https://github.com/deepmind/chex.git@v0.1.3 |tail -n 1\n",
    "    import chex\n",
    "    \n",
    "try:\n",
    "    import qdax\n",
    "except:\n",
    "    !pip install --no-deps git+https://github.com/adaptive-intelligent-robotics/QDax@main |tail -n 1\n",
    "    import qdax\n",
    "\n",
    "from qdax.core.map_elites import MAPElites\n",
    "from qdax.core.emitters.cma_me_emitter import CMAMEImprovementEmitter\n",
    "from qdax.core.containers.mapelites_repertoire import compute_cvt_centroids, MapElitesRepertoire\n",
    "from qdax.utils.plotting import plot_map_elites_results\n",
    "\n",
    "from typing import Dict"
   ]
  },
  {
   "cell_type": "code",
   "execution_count": 3,
   "metadata": {},
   "outputs": [],
   "source": [
    "# from jax.config import config\n",
    "\n",
    "# config.update('jax_disable_jit', True)"
   ]
  },
  {
   "cell_type": "markdown",
   "metadata": {},
   "source": [
    "## Set the hyperparameters\n",
    "\n",
    "Most hyperparameters are similar to those introduced in [Differentiable Quality Diversity paper](https://arxiv.org/pdf/2106.03894.pdf)."
   ]
  },
  {
   "cell_type": "code",
   "execution_count": 4,
   "metadata": {},
   "outputs": [],
   "source": [
    "#@title QD Training Definitions Fields\n",
    "#@markdown ---\n",
    "num_iterations = 10000 #10000\n",
    "num_dimensions = 1000 #1000 #@param {type:\"integer\"}\n",
    "num_centroids = 10000 #@param {type:\"integer\"}\n",
    "minval = -5.12 #@param {type:\"number\"}\n",
    "maxval = 5.12 #@param {type:\"number\"}\n",
    "batch_size = 36 #@param {type:\"integer\"}\n",
    "sigma_g = 5 #@param {type:\"number\"}\n",
    "minval = -5.12 #@param {type:\"number\"}\n",
    "maxval = 5.12 #@param {type:\"number\"}\n",
    "#@markdown ---"
   ]
  },
  {
   "cell_type": "markdown",
   "metadata": {},
   "source": [
    "## Defines the scoring function: rastrigin\n",
    "\n",
    "As we are in the Differentiable QD setting, the scoring function does not only retrieve the fitness and descriptors, but also the gradients."
   ]
  },
  {
   "cell_type": "code",
   "execution_count": 5,
   "metadata": {},
   "outputs": [],
   "source": [
    "def rastrigin_scoring(x: jnp.ndarray):\n",
    "    return -(10 * x.shape[-1] + jnp.sum((x+minval*0.4)**2 - 10 * jnp.cos(2 * jnp.pi * (x+minval*0.4))))\n",
    "\n",
    "def clip(x: jnp.ndarray):\n",
    "    return x*(x<=maxval)*(x>=+minval) + maxval/x*((x>maxval)+(x<+minval))\n",
    "\n",
    "def _rastrigin_descriptor_1(x: jnp.ndarray):\n",
    "    return jnp.mean(clip(x[:x.shape[0]//2]))\n",
    "\n",
    "def _rastrigin_descriptor_2(x: jnp.ndarray):\n",
    "    return jnp.mean(clip(x[x.shape[0]//2:]))\n",
    "\n",
    "def rastrigin_descriptors(x: jnp.ndarray):\n",
    "    return jnp.array([_rastrigin_descriptor_1(x), _rastrigin_descriptor_2(x)])"
   ]
  },
  {
   "cell_type": "code",
   "execution_count": 6,
   "metadata": {},
   "outputs": [],
   "source": [
    "def scoring_function(x):\n",
    "    scores, descriptors = rastrigin_scoring(x), rastrigin_descriptors(x)\n",
    "    return scores, descriptors, {}\n",
    "\n",
    "def scoring_fn(x, random_key):\n",
    "    fitnesses, descriptors, extra_scores = jax.vmap(scoring_function)(x)\n",
    "    return fitnesses, descriptors, extra_scores, random_key"
   ]
  },
  {
   "cell_type": "markdown",
   "metadata": {},
   "source": [
    "## Define the metrics that will be used"
   ]
  },
  {
   "cell_type": "code",
   "execution_count": 7,
   "metadata": {},
   "outputs": [],
   "source": [
    "worst_objective = rastrigin_scoring(-jnp.ones(num_dimensions) * 5.12)\n",
    "best_objective = rastrigin_scoring(jnp.ones(num_dimensions) * 5.12 * 0.4)\n",
    "\n",
    "\n",
    "def metrics_fn(repertoire: MapElitesRepertoire) -> Dict[str, jnp.ndarray]:\n",
    "\n",
    "    # get metrics\n",
    "    grid_empty = repertoire.fitnesses == -jnp.inf\n",
    "    adjusted_fitness = (\n",
    "        (repertoire.fitnesses - worst_objective) / (best_objective - worst_objective)\n",
    "    )\n",
    "    qd_score = jnp.sum(adjusted_fitness, where=~grid_empty) / num_centroids\n",
    "    coverage = 100 * jnp.mean(1.0 - grid_empty)\n",
    "    max_fitness = jnp.max(adjusted_fitness)\n",
    "    return {\"qd_score\": qd_score, \"max_fitness\": max_fitness, \"coverage\": coverage}"
   ]
  },
  {
   "cell_type": "markdown",
   "metadata": {},
   "source": [
    "## Define the initial population, the emitter and the MAP Elites instance\n",
    "\n",
    "The emitter is defined using the CMAME emitter class. This emitter is given to a MAP-Elites instance to create an instance of the CMA-ME algorithm."
   ]
  },
  {
   "cell_type": "code",
   "execution_count": 8,
   "metadata": {},
   "outputs": [],
   "source": [
    "random_key = jax.random.PRNGKey(0)\n",
    "initial_population = jax.random.uniform(random_key, shape=(batch_size, num_dimensions))\n",
    "\n",
    "centroids, random_key = compute_cvt_centroids(\n",
    "    num_descriptors=2, \n",
    "    num_init_cvt_samples=10000, \n",
    "    num_centroids=num_centroids, \n",
    "    minval=minval, \n",
    "    maxval=maxval,\n",
    "    random_key=random_key,\n",
    ")\n",
    "\n",
    "emitter = CMAMEImprovementEmitter(\n",
    "    batch_size=batch_size,\n",
    "    genotype_dim=num_dimensions,\n",
    "    centroids=centroids,\n",
    "    sigma_g=sigma_g,\n",
    ")\n",
    "\n",
    "map_elites = MAPElites(\n",
    "    scoring_function=scoring_fn,\n",
    "    emitter=emitter,\n",
    "    metrics_function=metrics_fn\n",
    ")"
   ]
  },
  {
   "cell_type": "code",
   "execution_count": 9,
   "metadata": {},
   "outputs": [
    {
     "name": "stdout",
     "output_type": "stream",
     "text": [
      "Improvements :  Traced<ShapedArray(float32[36])>with<DynamicJaxprTrace(level=0/2)>\n",
      "Sorting indices :  Traced<ShapedArray(int32[36])>with<DynamicJaxprTrace(level=0/2)>\n"
     ]
    }
   ],
   "source": [
    "repertoire, emitter_state, random_key = map_elites.init(initial_population, centroids, random_key)"
   ]
  },
  {
   "cell_type": "code",
   "execution_count": null,
   "metadata": {},
   "outputs": [
    {
     "name": "stdout",
     "output_type": "stream",
     "text": [
      "Improvements :  Traced<ShapedArray(float32[36])>with<DynamicJaxprTrace(level=1/3)>\n",
      "Sorting indices :  Traced<ShapedArray(int32[36])>with<DynamicJaxprTrace(level=1/3)>\n"
     ]
    }
   ],
   "source": [
    "%%time\n",
    "\n",
    "(repertoire, emitter_state, random_key,), metrics = jax.lax.scan(\n",
    "    map_elites.scan_update,\n",
    "    (repertoire, emitter_state, random_key),\n",
    "    (),\n",
    "    length=num_iterations,\n",
    ")"
   ]
  },
  {
   "cell_type": "code",
   "execution_count": null,
   "metadata": {},
   "outputs": [],
   "source": [
    "#@title Visualization\n",
    "\n",
    "# create the x-axis array\n",
    "env_steps = jnp.arange(num_iterations) * batch_size\n",
    "\n",
    "# create the plots and the grid\n",
    "fig, axes = plot_map_elites_results(\n",
    "    env_steps=env_steps, metrics=metrics, repertoire=repertoire, min_bd=minval, max_bd=maxval\n",
    ")"
   ]
  },
  {
   "cell_type": "code",
   "execution_count": null,
   "metadata": {},
   "outputs": [],
   "source": []
  },
  {
   "cell_type": "code",
   "execution_count": null,
   "metadata": {},
   "outputs": [],
   "source": []
  },
  {
   "cell_type": "code",
   "execution_count": null,
   "metadata": {},
   "outputs": [],
   "source": []
  }
 ],
 "metadata": {
  "kernelspec": {
   "display_name": "Python 3 (ipykernel)",
   "language": "python",
   "name": "python3"
  },
  "language_info": {
   "codemirror_mode": {
    "name": "ipython",
    "version": 3
   },
   "file_extension": ".py",
   "mimetype": "text/x-python",
   "name": "python",
   "nbconvert_exporter": "python",
   "pygments_lexer": "ipython3",
   "version": "3.8.13"
  },
  "vscode": {
   "interpreter": {
    "hash": "9ae46cf6a59eb5e192bc4f27fbb5c33d8a30eb9acb43edbb510eeaf7c819ab64"
   }
  }
 },
 "nbformat": 4,
 "nbformat_minor": 2
}
